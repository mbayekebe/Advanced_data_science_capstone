{
 "cells": [
  {
   "cell_type": "markdown",
   "metadata": {},
   "source": [
    "# In this assignment, the goal is to predict income variables  based on other relevant variables from the data set"
   ]
  },
  {
   "cell_type": "markdown",
   "metadata": {
    "colab_type": "text",
    "id": "PMLZEwSRWEG1"
   },
   "source": [
    "## STEP 1 Data Loading and preprocessing --cleansing--"
   ]
  },
  {
   "cell_type": "code",
   "execution_count": 1,
   "metadata": {
    "colab": {},
    "colab_type": "code",
    "id": "VSoYWWfTWAUR"
   },
   "outputs": [
    {
     "name": "stderr",
     "output_type": "stream",
     "text": [
      "/home/jupyterlab/conda/lib/python3.6/site-packages/IPython/core/interactiveshell.py:3020: DtypeWarning: Columns (6,7,8,9,12,13,14,15,16,21,25,32,33,34,35,37,41,45,46,47,48,49,50,51,52,53,54,55,56,57,58,59,60,61,62,63,68,69,70,76,86,87,89,91,92,93,94,95,96,97,98,99,100,101,102,137,221,223,225,227,229,231,233,235,237,239,241,243,245,247,249,251,252,300,311,314,316,317,319,320,322,323,326,329,332,335,338,341,343,344,347,350,353,356,359,362,364,365,368,371,373,374,377,380,383,386,389,391,392,394,395,397,398,401,403,404,406,407,409,410,413,415,416,419,422,423,424,425,426,429,554,636,749,750,863,912,923,958,975,992,1066,1223,1257,1283,1285,1315,1316,1317,1318,1319,1320,1331,1332,1333,1334,1335,1336,1390,1428,1445,1446,1487,1488,1489,1530,1570,1572,1590,1610,1646,1647,1670,1671,1679,1691,1692,1693,1694,1695,1696,1697,1698,1699,1700,1701,1702,1703,1704,1705,1706,1707,1708,1709,1710,1711,1712,1713,1714,1715,1716,2388,2389,2390,2391,2392,2393,2394,2395,2396,2397,2398,2399,2400,2401,2404,2405,2406,2407,2408,2409,2410,2411,2412,2413,2414,2415,2416,2417,2418,2419,2420,2421,2422,2423,2424,2425,2426,2427,2428,2429,2430,2431,2432,2433,2434,2435,2436,2437,2438,2483) have mixed types. Specify dtype option on import or set low_memory=False.\n",
      "  interactivity=interactivity, compiler=compiler, result=result)\n"
     ]
    }
   ],
   "source": [
    "# imports\n",
    "import pandas as pd\n",
    "\n",
    "nhies = pd.read_csv('NHIESHH2016.csv')\n",
    "\n",
    "#Get the summary of the total income  variable\n",
    "#we can find the summary of the income variable by using .describe()\n",
    "#summary_inc = nhies[\"income\"].describe()\n",
    "#summary_inc"
   ]
  },
  {
   "cell_type": "code",
   "execution_count": 3,
   "metadata": {
    "colab": {},
    "colab_type": "code",
    "id": "0r7_ljQJlRtz"
   },
   "outputs": [
    {
     "data": {
      "text/plain": [
       "(10090, 2485)"
      ]
     },
     "execution_count": 3,
     "metadata": {},
     "output_type": "execute_result"
    }
   ],
   "source": [
    "nhies.shape"
   ]
  },
  {
   "cell_type": "code",
   "execution_count": 21,
   "metadata": {},
   "outputs": [
    {
     "data": {
      "text/html": [
       "<div>\n",
       "<style scoped>\n",
       "    .dataframe tbody tr th:only-of-type {\n",
       "        vertical-align: middle;\n",
       "    }\n",
       "\n",
       "    .dataframe tbody tr th {\n",
       "        vertical-align: top;\n",
       "    }\n",
       "\n",
       "    .dataframe thead th {\n",
       "        text-align: right;\n",
       "    }\n",
       "</style>\n",
       "<table border=\"1\" class=\"dataframe\">\n",
       "  <thead>\n",
       "    <tr style=\"text-align: right;\">\n",
       "      <th></th>\n",
       "      <th>region</th>\n",
       "      <th>constituency</th>\n",
       "      <th>psu</th>\n",
       "      <th>segment</th>\n",
       "      <th>du</th>\n",
       "      <th>hh</th>\n",
       "      <th>ah_supervisor</th>\n",
       "      <th>ah_interviewer</th>\n",
       "      <th>ah_sample_status</th>\n",
       "      <th>ah_status</th>\n",
       "      <th>...</th>\n",
       "      <th>other</th>\n",
       "      <th>urbrur</th>\n",
       "      <th>reg_urb</th>\n",
       "      <th>wgt_ind</th>\n",
       "      <th>main_language</th>\n",
       "      <th>main_sourceincome</th>\n",
       "      <th>tenure</th>\n",
       "      <th>urbrur_head</th>\n",
       "      <th>attain</th>\n",
       "      <th>food_coping</th>\n",
       "    </tr>\n",
       "  </thead>\n",
       "  <tbody>\n",
       "    <tr>\n",
       "      <th>0</th>\n",
       "      <td>1</td>\n",
       "      <td>1</td>\n",
       "      <td>2</td>\n",
       "      <td>B</td>\n",
       "      <td>3</td>\n",
       "      <td>2</td>\n",
       "      <td>901002</td>\n",
       "      <td>501004</td>\n",
       "      <td>1</td>\n",
       "      <td>2</td>\n",
       "      <td>...</td>\n",
       "      <td>2532.0</td>\n",
       "      <td>99</td>\n",
       "      <td>2</td>\n",
       "      <td>41.045116</td>\n",
       "      <td>5</td>\n",
       "      <td>1</td>\n",
       "      <td>3</td>\n",
       "      <td>4</td>\n",
       "      <td>3</td>\n",
       "      <td></td>\n",
       "    </tr>\n",
       "    <tr>\n",
       "      <th>1</th>\n",
       "      <td>1</td>\n",
       "      <td>1</td>\n",
       "      <td>2</td>\n",
       "      <td>B</td>\n",
       "      <td>12</td>\n",
       "      <td>1</td>\n",
       "      <td>901002</td>\n",
       "      <td>501004</td>\n",
       "      <td>1</td>\n",
       "      <td>2</td>\n",
       "      <td>...</td>\n",
       "      <td>1354.0</td>\n",
       "      <td>99</td>\n",
       "      <td>2</td>\n",
       "      <td>37.172646</td>\n",
       "      <td>10</td>\n",
       "      <td>5</td>\n",
       "      <td>4</td>\n",
       "      <td>4</td>\n",
       "      <td>3</td>\n",
       "      <td>5</td>\n",
       "    </tr>\n",
       "    <tr>\n",
       "      <th>2</th>\n",
       "      <td>1</td>\n",
       "      <td>1</td>\n",
       "      <td>2</td>\n",
       "      <td>B</td>\n",
       "      <td>17</td>\n",
       "      <td>1</td>\n",
       "      <td>901002</td>\n",
       "      <td>501004</td>\n",
       "      <td>1</td>\n",
       "      <td>2</td>\n",
       "      <td>...</td>\n",
       "      <td>16904.0</td>\n",
       "      <td>99</td>\n",
       "      <td>2</td>\n",
       "      <td>30.331425</td>\n",
       "      <td>5</td>\n",
       "      <td>1</td>\n",
       "      <td>1</td>\n",
       "      <td>3</td>\n",
       "      <td>2</td>\n",
       "      <td></td>\n",
       "    </tr>\n",
       "    <tr>\n",
       "      <th>3</th>\n",
       "      <td>1</td>\n",
       "      <td>1</td>\n",
       "      <td>2</td>\n",
       "      <td>B</td>\n",
       "      <td>23</td>\n",
       "      <td>1</td>\n",
       "      <td>901002</td>\n",
       "      <td>501004</td>\n",
       "      <td>1</td>\n",
       "      <td>2</td>\n",
       "      <td>...</td>\n",
       "      <td>714.0</td>\n",
       "      <td>99</td>\n",
       "      <td>2</td>\n",
       "      <td>47.161358</td>\n",
       "      <td>5</td>\n",
       "      <td>5</td>\n",
       "      <td>1</td>\n",
       "      <td>4</td>\n",
       "      <td>3</td>\n",
       "      <td></td>\n",
       "    </tr>\n",
       "    <tr>\n",
       "      <th>4</th>\n",
       "      <td>1</td>\n",
       "      <td>1</td>\n",
       "      <td>2</td>\n",
       "      <td>B</td>\n",
       "      <td>29</td>\n",
       "      <td>1</td>\n",
       "      <td>901002</td>\n",
       "      <td>501004</td>\n",
       "      <td>1</td>\n",
       "      <td>2</td>\n",
       "      <td>...</td>\n",
       "      <td>4934.0</td>\n",
       "      <td>99</td>\n",
       "      <td>2</td>\n",
       "      <td>71.750534</td>\n",
       "      <td>12</td>\n",
       "      <td>1</td>\n",
       "      <td>3</td>\n",
       "      <td>3</td>\n",
       "      <td>3</td>\n",
       "      <td></td>\n",
       "    </tr>\n",
       "  </tbody>\n",
       "</table>\n",
       "<p>5 rows × 2485 columns</p>\n",
       "</div>"
      ],
      "text/plain": [
       "   region  constituency  psu segment  du  hh ah_supervisor ah_interviewer  \\\n",
       "0       1             1    2       B   3   2        901002         501004   \n",
       "1       1             1    2       B  12   1        901002         501004   \n",
       "2       1             1    2       B  17   1        901002         501004   \n",
       "3       1             1    2       B  23   1        901002         501004   \n",
       "4       1             1    2       B  29   1        901002         501004   \n",
       "\n",
       "  ah_sample_status ah_status  ...    other urbrur reg_urb    wgt_ind  \\\n",
       "0                1         2  ...   2532.0     99       2  41.045116   \n",
       "1                1         2  ...   1354.0     99       2  37.172646   \n",
       "2                1         2  ...  16904.0     99       2  30.331425   \n",
       "3                1         2  ...    714.0     99       2  47.161358   \n",
       "4                1         2  ...   4934.0     99       2  71.750534   \n",
       "\n",
       "  main_language main_sourceincome tenure urbrur_head attain food_coping  \n",
       "0             5                 1      3           4      3              \n",
       "1            10                 5      4           4      3           5  \n",
       "2             5                 1      1           3      2              \n",
       "3             5                 5      1           4      3              \n",
       "4            12                 1      3           3      3              \n",
       "\n",
       "[5 rows x 2485 columns]"
      ]
     },
     "execution_count": 21,
     "metadata": {},
     "output_type": "execute_result"
    }
   ],
   "source": [
    "nhies.head()"
   ]
  },
  {
   "cell_type": "markdown",
   "metadata": {},
   "source": [
    "# The income related variables are apci,ncons_exp,g01_food,income,cons_exp,apci_groups"
   ]
  },
  {
   "cell_type": "code",
   "execution_count": 2,
   "metadata": {
    "colab": {},
    "colab_type": "code",
    "id": "DgSBBmwzjUJ0"
   },
   "outputs": [],
   "source": [
    "# Extract relevant variables \n",
    "nhiesinc = nhies[['sex_of_head','age_of_head','reg_urb','main_language','main_sourceincome',\\\n",
    "                  'tenure','urbrur_head','attain','apci','ncons_exp','g01_food','income','cons_exp','apci_groups']]\n"
   ]
  },
  {
   "cell_type": "code",
   "execution_count": 3,
   "metadata": {
    "colab": {},
    "colab_type": "code",
    "id": "l2TwXFDCqRxE"
   },
   "outputs": [
    {
     "data": {
      "text/plain": [
       "(10090, 14)"
      ]
     },
     "execution_count": 3,
     "metadata": {},
     "output_type": "execute_result"
    }
   ],
   "source": [
    "nhiesinc.shape"
   ]
  },
  {
   "cell_type": "code",
   "execution_count": 4,
   "metadata": {
    "colab": {},
    "colab_type": "code",
    "id": "by1Q3pDaqerB"
   },
   "outputs": [
    {
     "data": {
      "text/html": [
       "<div>\n",
       "<style scoped>\n",
       "    .dataframe tbody tr th:only-of-type {\n",
       "        vertical-align: middle;\n",
       "    }\n",
       "\n",
       "    .dataframe tbody tr th {\n",
       "        vertical-align: top;\n",
       "    }\n",
       "\n",
       "    .dataframe thead th {\n",
       "        text-align: right;\n",
       "    }\n",
       "</style>\n",
       "<table border=\"1\" class=\"dataframe\">\n",
       "  <thead>\n",
       "    <tr style=\"text-align: right;\">\n",
       "      <th></th>\n",
       "      <th>sex_of_head</th>\n",
       "      <th>age_of_head</th>\n",
       "      <th>reg_urb</th>\n",
       "      <th>main_language</th>\n",
       "      <th>main_sourceincome</th>\n",
       "      <th>tenure</th>\n",
       "      <th>urbrur_head</th>\n",
       "      <th>attain</th>\n",
       "      <th>apci</th>\n",
       "      <th>ncons_exp</th>\n",
       "      <th>g01_food</th>\n",
       "      <th>income</th>\n",
       "      <th>cons_exp</th>\n",
       "      <th>apci_groups</th>\n",
       "    </tr>\n",
       "  </thead>\n",
       "  <tbody>\n",
       "    <tr>\n",
       "      <th>0</th>\n",
       "      <td>2</td>\n",
       "      <td>35</td>\n",
       "      <td>2</td>\n",
       "      <td>5</td>\n",
       "      <td>1</td>\n",
       "      <td>3</td>\n",
       "      <td>4</td>\n",
       "      <td>3</td>\n",
       "      <td>23453.849609</td>\n",
       "      <td>1800.0</td>\n",
       "      <td>6681.848633</td>\n",
       "      <td>23453.849609</td>\n",
       "      <td>21653.849609</td>\n",
       "      <td>3</td>\n",
       "    </tr>\n",
       "    <tr>\n",
       "      <th>1</th>\n",
       "      <td>2</td>\n",
       "      <td>25</td>\n",
       "      <td>2</td>\n",
       "      <td>10</td>\n",
       "      <td>5</td>\n",
       "      <td>4</td>\n",
       "      <td>4</td>\n",
       "      <td>3</td>\n",
       "      <td>29355.007812</td>\n",
       "      <td>1800.0</td>\n",
       "      <td>10505.010742</td>\n",
       "      <td>29355.007812</td>\n",
       "      <td>27555.007812</td>\n",
       "      <td>3</td>\n",
       "    </tr>\n",
       "    <tr>\n",
       "      <th>2</th>\n",
       "      <td>1</td>\n",
       "      <td>51</td>\n",
       "      <td>2</td>\n",
       "      <td>5</td>\n",
       "      <td>1</td>\n",
       "      <td>1</td>\n",
       "      <td>3</td>\n",
       "      <td>2</td>\n",
       "      <td>91796.781250</td>\n",
       "      <td>2500.0</td>\n",
       "      <td>35028.773438</td>\n",
       "      <td>91796.781250</td>\n",
       "      <td>89296.773438</td>\n",
       "      <td>5</td>\n",
       "    </tr>\n",
       "    <tr>\n",
       "      <th>3</th>\n",
       "      <td>2</td>\n",
       "      <td>54</td>\n",
       "      <td>2</td>\n",
       "      <td>5</td>\n",
       "      <td>5</td>\n",
       "      <td>1</td>\n",
       "      <td>4</td>\n",
       "      <td>3</td>\n",
       "      <td>16954.039062</td>\n",
       "      <td>0.0</td>\n",
       "      <td>1756.040039</td>\n",
       "      <td>16954.039062</td>\n",
       "      <td>16954.039062</td>\n",
       "      <td>3</td>\n",
       "    </tr>\n",
       "    <tr>\n",
       "      <th>4</th>\n",
       "      <td>1</td>\n",
       "      <td>35</td>\n",
       "      <td>2</td>\n",
       "      <td>12</td>\n",
       "      <td>1</td>\n",
       "      <td>3</td>\n",
       "      <td>3</td>\n",
       "      <td>3</td>\n",
       "      <td>24646.001953</td>\n",
       "      <td>960.0</td>\n",
       "      <td>9542.000000</td>\n",
       "      <td>49292.003906</td>\n",
       "      <td>48332.000000</td>\n",
       "      <td>3</td>\n",
       "    </tr>\n",
       "    <tr>\n",
       "      <th>5</th>\n",
       "      <td>1</td>\n",
       "      <td>45</td>\n",
       "      <td>2</td>\n",
       "      <td>8</td>\n",
       "      <td>1</td>\n",
       "      <td>1</td>\n",
       "      <td>3</td>\n",
       "      <td>3</td>\n",
       "      <td>17227.201172</td>\n",
       "      <td>200.0</td>\n",
       "      <td>37928.800781</td>\n",
       "      <td>68908.804688</td>\n",
       "      <td>68708.804688</td>\n",
       "      <td>3</td>\n",
       "    </tr>\n",
       "    <tr>\n",
       "      <th>6</th>\n",
       "      <td>2</td>\n",
       "      <td>69</td>\n",
       "      <td>2</td>\n",
       "      <td>5</td>\n",
       "      <td>2</td>\n",
       "      <td>1</td>\n",
       "      <td>4</td>\n",
       "      <td>2</td>\n",
       "      <td>14457.667969</td>\n",
       "      <td>4020.0</td>\n",
       "      <td>11055.001953</td>\n",
       "      <td>43373.003906</td>\n",
       "      <td>39353.003906</td>\n",
       "      <td>2</td>\n",
       "    </tr>\n",
       "    <tr>\n",
       "      <th>7</th>\n",
       "      <td>2</td>\n",
       "      <td>39</td>\n",
       "      <td>2</td>\n",
       "      <td>5</td>\n",
       "      <td>1</td>\n",
       "      <td>3</td>\n",
       "      <td>4</td>\n",
       "      <td>3</td>\n",
       "      <td>117404.437500</td>\n",
       "      <td>69800.0</td>\n",
       "      <td>15178.432617</td>\n",
       "      <td>117404.437500</td>\n",
       "      <td>47604.433594</td>\n",
       "      <td>5</td>\n",
       "    </tr>\n",
       "    <tr>\n",
       "      <th>8</th>\n",
       "      <td>2</td>\n",
       "      <td>32</td>\n",
       "      <td>2</td>\n",
       "      <td>5</td>\n",
       "      <td>1</td>\n",
       "      <td>3</td>\n",
       "      <td>4</td>\n",
       "      <td>3</td>\n",
       "      <td>5591.412109</td>\n",
       "      <td>2800.0</td>\n",
       "      <td>888.824219</td>\n",
       "      <td>11182.824219</td>\n",
       "      <td>8382.824219</td>\n",
       "      <td>1</td>\n",
       "    </tr>\n",
       "    <tr>\n",
       "      <th>9</th>\n",
       "      <td>2</td>\n",
       "      <td>52</td>\n",
       "      <td>2</td>\n",
       "      <td>5</td>\n",
       "      <td>1</td>\n",
       "      <td>1</td>\n",
       "      <td>4</td>\n",
       "      <td>2</td>\n",
       "      <td>12650.011719</td>\n",
       "      <td>50.0</td>\n",
       "      <td>10078.029297</td>\n",
       "      <td>31625.027344</td>\n",
       "      <td>31575.027344</td>\n",
       "      <td>2</td>\n",
       "    </tr>\n",
       "  </tbody>\n",
       "</table>\n",
       "</div>"
      ],
      "text/plain": [
       "   sex_of_head  age_of_head  reg_urb  main_language  main_sourceincome  \\\n",
       "0            2           35        2              5                  1   \n",
       "1            2           25        2             10                  5   \n",
       "2            1           51        2              5                  1   \n",
       "3            2           54        2              5                  5   \n",
       "4            1           35        2             12                  1   \n",
       "5            1           45        2              8                  1   \n",
       "6            2           69        2              5                  2   \n",
       "7            2           39        2              5                  1   \n",
       "8            2           32        2              5                  1   \n",
       "9            2           52        2              5                  1   \n",
       "\n",
       "   tenure  urbrur_head attain           apci  ncons_exp      g01_food  \\\n",
       "0       3            4      3   23453.849609     1800.0   6681.848633   \n",
       "1       4            4      3   29355.007812     1800.0  10505.010742   \n",
       "2       1            3      2   91796.781250     2500.0  35028.773438   \n",
       "3       1            4      3   16954.039062        0.0   1756.040039   \n",
       "4       3            3      3   24646.001953      960.0   9542.000000   \n",
       "5       1            3      3   17227.201172      200.0  37928.800781   \n",
       "6       1            4      2   14457.667969     4020.0  11055.001953   \n",
       "7       3            4      3  117404.437500    69800.0  15178.432617   \n",
       "8       3            4      3    5591.412109     2800.0    888.824219   \n",
       "9       1            4      2   12650.011719       50.0  10078.029297   \n",
       "\n",
       "          income      cons_exp  apci_groups  \n",
       "0   23453.849609  21653.849609            3  \n",
       "1   29355.007812  27555.007812            3  \n",
       "2   91796.781250  89296.773438            5  \n",
       "3   16954.039062  16954.039062            3  \n",
       "4   49292.003906  48332.000000            3  \n",
       "5   68908.804688  68708.804688            3  \n",
       "6   43373.003906  39353.003906            2  \n",
       "7  117404.437500  47604.433594            5  \n",
       "8   11182.824219   8382.824219            1  \n",
       "9   31625.027344  31575.027344            2  "
      ]
     },
     "execution_count": 4,
     "metadata": {},
     "output_type": "execute_result"
    }
   ],
   "source": [
    "nhiesinc.head(10)"
   ]
  },
  {
   "cell_type": "code",
   "execution_count": 5,
   "metadata": {},
   "outputs": [
    {
     "data": {
      "text/plain": [
       "sex_of_head            int64\n",
       "age_of_head            int64\n",
       "reg_urb                int64\n",
       "main_language          int64\n",
       "main_sourceincome      int64\n",
       "tenure                 int64\n",
       "urbrur_head            int64\n",
       "attain                object\n",
       "apci                 float64\n",
       "ncons_exp            float64\n",
       "g01_food             float64\n",
       "income               float64\n",
       "cons_exp             float64\n",
       "apci_groups            int64\n",
       "dtype: object"
      ]
     },
     "execution_count": 5,
     "metadata": {},
     "output_type": "execute_result"
    }
   ],
   "source": [
    "nhiesinc.dtypes"
   ]
  },
  {
   "cell_type": "code",
   "execution_count": 6,
   "metadata": {},
   "outputs": [
    {
     "name": "stdout",
     "output_type": "stream",
     "text": [
      "3    4085\n",
      "2    2645\n",
      "1    1823\n",
      "4     938\n",
      "      289\n",
      "3      85\n",
      "1      82\n",
      "2      80\n",
      "5      54\n",
      "4       8\n",
      "5       1\n",
      "Name: attain, dtype: int64\n"
     ]
    }
   ],
   "source": [
    "# attain is object; let's see why\n",
    "print(nhiesinc['attain'].value_counts())"
   ]
  },
  {
   "cell_type": "code",
   "execution_count": 7,
   "metadata": {},
   "outputs": [
    {
     "name": "stderr",
     "output_type": "stream",
     "text": [
      "/home/jupyterlab/conda/lib/python3.6/site-packages/ipykernel_launcher.py:2: FutureWarning: convert_objects is deprecated.  To re-infer data dtypes for object columns, use DataFrame.infer_objects()\n",
      "For all other conversions use the data-type specific converters pd.to_datetime, pd.to_timedelta and pd.to_numeric.\n",
      "  \n",
      "/home/jupyterlab/conda/lib/python3.6/site-packages/pandas/core/generic.py:5096: SettingWithCopyWarning: \n",
      "A value is trying to be set on a copy of a slice from a DataFrame.\n",
      "Try using .loc[row_indexer,col_indexer] = value instead\n",
      "\n",
      "See the caveats in the documentation: http://pandas.pydata.org/pandas-docs/stable/indexing.html#indexing-view-versus-copy\n",
      "  self[name] = value\n"
     ]
    }
   ],
   "source": [
    "# attain contains null values--bllanks-- ; let's convert to numeric and replace with code '6'\n",
    "nhiesinc.attain = nhiesinc[['attain']].convert_objects(convert_numeric=True).fillna(6)"
   ]
  },
  {
   "cell_type": "code",
   "execution_count": 8,
   "metadata": {},
   "outputs": [
    {
     "data": {
      "text/plain": [
       "sex_of_head            int64\n",
       "age_of_head            int64\n",
       "reg_urb                int64\n",
       "main_language          int64\n",
       "main_sourceincome      int64\n",
       "tenure                 int64\n",
       "urbrur_head            int64\n",
       "attain               float64\n",
       "apci                 float64\n",
       "ncons_exp            float64\n",
       "g01_food             float64\n",
       "income               float64\n",
       "cons_exp             float64\n",
       "apci_groups            int64\n",
       "dtype: object"
      ]
     },
     "execution_count": 8,
     "metadata": {},
     "output_type": "execute_result"
    }
   ],
   "source": [
    "# Checking again the data types ; things ok now.\n",
    "nhiesinc.dtypes"
   ]
  },
  {
   "cell_type": "code",
   "execution_count": 10,
   "metadata": {},
   "outputs": [
    {
     "data": {
      "text/plain": [
       "sex_of_head          False\n",
       "age_of_head          False\n",
       "reg_urb              False\n",
       "main_language        False\n",
       "main_sourceincome    False\n",
       "tenure               False\n",
       "urbrur_head          False\n",
       "attain               False\n",
       "apci                 False\n",
       "ncons_exp            False\n",
       "g01_food             False\n",
       "income               False\n",
       "cons_exp             False\n",
       "apci_groups          False\n",
       "dtype: bool"
      ]
     },
     "execution_count": 10,
     "metadata": {},
     "output_type": "execute_result"
    }
   ],
   "source": [
    "nhiesinc.isnull().any()"
   ]
  },
  {
   "cell_type": "code",
   "execution_count": 11,
   "metadata": {
    "colab": {},
    "colab_type": "code",
    "id": "GRzvuIrGmRuU"
   },
   "outputs": [
    {
     "data": {
      "text/plain": [
       "count    10090.000000\n",
       "mean        46.619623\n",
       "std         17.119834\n",
       "min         12.000000\n",
       "25%         33.000000\n",
       "50%         44.000000\n",
       "75%         58.000000\n",
       "max        107.000000\n",
       "Name: age_of_head, dtype: float64"
      ]
     },
     "execution_count": 11,
     "metadata": {},
     "output_type": "execute_result"
    }
   ],
   "source": [
    "# No null values now\n",
    "# Check age of head of household\n",
    "summary_age = nhiesinc[\"age_of_head\"].describe()\n",
    "summary_age"
   ]
  },
  {
   "cell_type": "code",
   "execution_count": 12,
   "metadata": {
    "colab": {},
    "colab_type": "code",
    "id": "OMRiXEGdhWBn"
   },
   "outputs": [],
   "source": [
    "# split/recode age into age_groups\n",
    "age_map = {\n",
    "    '1': (12, 24),\n",
    "    '2': (25, 34), \n",
    "    '3': (35, 44), \n",
    "    '4': (45, 54),\n",
    "    '5': (55, 64),\n",
    "    '6': (65, 107)\n",
    "}"
   ]
  },
  {
   "cell_type": "code",
   "execution_count": 13,
   "metadata": {
    "colab": {},
    "colab_type": "code",
    "id": "uTYcwtL3oG56"
   },
   "outputs": [
    {
     "name": "stderr",
     "output_type": "stream",
     "text": [
      "/home/jupyterlab/conda/lib/python3.6/site-packages/pandas/core/indexing.py:362: SettingWithCopyWarning: \n",
      "A value is trying to be set on a copy of a slice from a DataFrame.\n",
      "Try using .loc[row_indexer,col_indexer] = value instead\n",
      "\n",
      "See the caveats in the documentation: http://pandas.pydata.org/pandas-docs/stable/indexing.html#indexing-view-versus-copy\n",
      "  self.obj[key] = _infer_fill_value(value)\n",
      "/home/jupyterlab/conda/lib/python3.6/site-packages/pandas/core/indexing.py:543: SettingWithCopyWarning: \n",
      "A value is trying to be set on a copy of a slice from a DataFrame.\n",
      "Try using .loc[row_indexer,col_indexer] = value instead\n",
      "\n",
      "See the caveats in the documentation: http://pandas.pydata.org/pandas-docs/stable/indexing.html#indexing-view-versus-copy\n",
      "  self.obj[item] = s\n"
     ]
    }
   ],
   "source": [
    "for (k, v) in age_map.items():\n",
    "    nhiesinc.loc[(nhiesinc['age_of_head'] >= v[0]) & (nhiesinc['age_of_head'] <= v[1]), 'age_group'] = k"
   ]
  },
  {
   "cell_type": "code",
   "execution_count": 14,
   "metadata": {
    "colab": {},
    "colab_type": "code",
    "id": "Qd4lrYPOo_yT"
   },
   "outputs": [
    {
     "data": {
      "text/html": [
       "<div>\n",
       "<style scoped>\n",
       "    .dataframe tbody tr th:only-of-type {\n",
       "        vertical-align: middle;\n",
       "    }\n",
       "\n",
       "    .dataframe tbody tr th {\n",
       "        vertical-align: top;\n",
       "    }\n",
       "\n",
       "    .dataframe thead th {\n",
       "        text-align: right;\n",
       "    }\n",
       "</style>\n",
       "<table border=\"1\" class=\"dataframe\">\n",
       "  <thead>\n",
       "    <tr style=\"text-align: right;\">\n",
       "      <th></th>\n",
       "      <th>sex_of_head</th>\n",
       "      <th>age_group</th>\n",
       "      <th>age_of_head</th>\n",
       "      <th>reg_urb</th>\n",
       "      <th>main_language</th>\n",
       "      <th>main_sourceincome</th>\n",
       "      <th>tenure</th>\n",
       "      <th>urbrur_head</th>\n",
       "      <th>attain</th>\n",
       "      <th>apci</th>\n",
       "      <th>ncons_exp</th>\n",
       "      <th>g01_food</th>\n",
       "      <th>income</th>\n",
       "      <th>cons_exp</th>\n",
       "      <th>apci_groups</th>\n",
       "    </tr>\n",
       "  </thead>\n",
       "  <tbody>\n",
       "    <tr>\n",
       "      <th>0</th>\n",
       "      <td>2</td>\n",
       "      <td>3</td>\n",
       "      <td>35</td>\n",
       "      <td>2</td>\n",
       "      <td>5</td>\n",
       "      <td>1</td>\n",
       "      <td>3</td>\n",
       "      <td>4</td>\n",
       "      <td>3.0</td>\n",
       "      <td>23453.849609</td>\n",
       "      <td>1800.0</td>\n",
       "      <td>6681.848633</td>\n",
       "      <td>23453.849609</td>\n",
       "      <td>21653.849609</td>\n",
       "      <td>3</td>\n",
       "    </tr>\n",
       "    <tr>\n",
       "      <th>1</th>\n",
       "      <td>2</td>\n",
       "      <td>2</td>\n",
       "      <td>25</td>\n",
       "      <td>2</td>\n",
       "      <td>10</td>\n",
       "      <td>5</td>\n",
       "      <td>4</td>\n",
       "      <td>4</td>\n",
       "      <td>3.0</td>\n",
       "      <td>29355.007812</td>\n",
       "      <td>1800.0</td>\n",
       "      <td>10505.010742</td>\n",
       "      <td>29355.007812</td>\n",
       "      <td>27555.007812</td>\n",
       "      <td>3</td>\n",
       "    </tr>\n",
       "    <tr>\n",
       "      <th>2</th>\n",
       "      <td>1</td>\n",
       "      <td>4</td>\n",
       "      <td>51</td>\n",
       "      <td>2</td>\n",
       "      <td>5</td>\n",
       "      <td>1</td>\n",
       "      <td>1</td>\n",
       "      <td>3</td>\n",
       "      <td>2.0</td>\n",
       "      <td>91796.781250</td>\n",
       "      <td>2500.0</td>\n",
       "      <td>35028.773438</td>\n",
       "      <td>91796.781250</td>\n",
       "      <td>89296.773438</td>\n",
       "      <td>5</td>\n",
       "    </tr>\n",
       "    <tr>\n",
       "      <th>3</th>\n",
       "      <td>2</td>\n",
       "      <td>4</td>\n",
       "      <td>54</td>\n",
       "      <td>2</td>\n",
       "      <td>5</td>\n",
       "      <td>5</td>\n",
       "      <td>1</td>\n",
       "      <td>4</td>\n",
       "      <td>3.0</td>\n",
       "      <td>16954.039062</td>\n",
       "      <td>0.0</td>\n",
       "      <td>1756.040039</td>\n",
       "      <td>16954.039062</td>\n",
       "      <td>16954.039062</td>\n",
       "      <td>3</td>\n",
       "    </tr>\n",
       "    <tr>\n",
       "      <th>4</th>\n",
       "      <td>1</td>\n",
       "      <td>3</td>\n",
       "      <td>35</td>\n",
       "      <td>2</td>\n",
       "      <td>12</td>\n",
       "      <td>1</td>\n",
       "      <td>3</td>\n",
       "      <td>3</td>\n",
       "      <td>3.0</td>\n",
       "      <td>24646.001953</td>\n",
       "      <td>960.0</td>\n",
       "      <td>9542.000000</td>\n",
       "      <td>49292.003906</td>\n",
       "      <td>48332.000000</td>\n",
       "      <td>3</td>\n",
       "    </tr>\n",
       "  </tbody>\n",
       "</table>\n",
       "</div>"
      ],
      "text/plain": [
       "   sex_of_head age_group  age_of_head  reg_urb  main_language  \\\n",
       "0            2         3           35        2              5   \n",
       "1            2         2           25        2             10   \n",
       "2            1         4           51        2              5   \n",
       "3            2         4           54        2              5   \n",
       "4            1         3           35        2             12   \n",
       "\n",
       "   main_sourceincome  tenure  urbrur_head  attain          apci  ncons_exp  \\\n",
       "0                  1       3            4     3.0  23453.849609     1800.0   \n",
       "1                  5       4            4     3.0  29355.007812     1800.0   \n",
       "2                  1       1            3     2.0  91796.781250     2500.0   \n",
       "3                  5       1            4     3.0  16954.039062        0.0   \n",
       "4                  1       3            3     3.0  24646.001953      960.0   \n",
       "\n",
       "       g01_food        income      cons_exp  apci_groups  \n",
       "0   6681.848633  23453.849609  21653.849609            3  \n",
       "1  10505.010742  29355.007812  27555.007812            3  \n",
       "2  35028.773438  91796.781250  89296.773438            5  \n",
       "3   1756.040039  16954.039062  16954.039062            3  \n",
       "4   9542.000000  49292.003906  48332.000000            3  "
      ]
     },
     "execution_count": 14,
     "metadata": {},
     "output_type": "execute_result"
    }
   ],
   "source": [
    "# move new age_group col to begin of matrix\n",
    "cols = list(nhiesinc)\n",
    "cols.insert(1, cols.pop(cols.index('age_group')))\n",
    "nhiesinc = nhiesinc[cols]\n",
    "nhiesinc.head()"
   ]
  },
  {
   "cell_type": "code",
   "execution_count": 15,
   "metadata": {},
   "outputs": [],
   "source": [
    "nhiesinc.to_csv('nhiesincml.csv')"
   ]
  },
  {
   "cell_type": "markdown",
   "metadata": {
    "colab_type": "text",
    "id": "EgtO1Z8mBnbn"
   },
   "source": [
    "# STEP 2 Exploratory Data Analysis"
   ]
  },
  {
   "cell_type": "code",
   "execution_count": 16,
   "metadata": {
    "colab": {},
    "colab_type": "code",
    "id": "WrZbBWHVBt8C"
   },
   "outputs": [],
   "source": [
    "# imports\n",
    "%matplotlib inline\n",
    "import numpy as np\n",
    "import pandas as pd\n",
    "import statsmodels.api as sm\n",
    "from statsmodels.formula.api import ols\n",
    "import matplotlib.pyplot as plt\n",
    "import seaborn as sns\n"
   ]
  },
  {
   "cell_type": "code",
   "execution_count": 18,
   "metadata": {},
   "outputs": [],
   "source": [
    "# Exploring quantitative variables\n",
    "quantds = nhiesinc[['age_of_head','apci','ncons_exp','g01_food','income','cons_exp',]]"
   ]
  },
  {
   "cell_type": "code",
   "execution_count": 19,
   "metadata": {},
   "outputs": [
    {
     "data": {
      "text/html": [
       "<div>\n",
       "<style scoped>\n",
       "    .dataframe tbody tr th:only-of-type {\n",
       "        vertical-align: middle;\n",
       "    }\n",
       "\n",
       "    .dataframe tbody tr th {\n",
       "        vertical-align: top;\n",
       "    }\n",
       "\n",
       "    .dataframe thead th {\n",
       "        text-align: right;\n",
       "    }\n",
       "</style>\n",
       "<table border=\"1\" class=\"dataframe\">\n",
       "  <thead>\n",
       "    <tr style=\"text-align: right;\">\n",
       "      <th></th>\n",
       "      <th>age_of_head</th>\n",
       "      <th>apci</th>\n",
       "      <th>ncons_exp</th>\n",
       "      <th>g01_food</th>\n",
       "      <th>income</th>\n",
       "      <th>cons_exp</th>\n",
       "    </tr>\n",
       "  </thead>\n",
       "  <tbody>\n",
       "    <tr>\n",
       "      <th>count</th>\n",
       "      <td>10090.000000</td>\n",
       "      <td>1.009000e+04</td>\n",
       "      <td>1.009000e+04</td>\n",
       "      <td>1.009000e+04</td>\n",
       "      <td>1.009000e+04</td>\n",
       "      <td>1.009000e+04</td>\n",
       "    </tr>\n",
       "    <tr>\n",
       "      <th>mean</th>\n",
       "      <td>46.619623</td>\n",
       "      <td>5.258010e+04</td>\n",
       "      <td>3.019206e+04</td>\n",
       "      <td>4.071043e+04</td>\n",
       "      <td>1.314056e+05</td>\n",
       "      <td>1.064489e+05</td>\n",
       "    </tr>\n",
       "    <tr>\n",
       "      <th>std</th>\n",
       "      <td>17.119834</td>\n",
       "      <td>2.983869e+05</td>\n",
       "      <td>5.262571e+05</td>\n",
       "      <td>1.398639e+05</td>\n",
       "      <td>6.042626e+05</td>\n",
       "      <td>2.183151e+05</td>\n",
       "    </tr>\n",
       "    <tr>\n",
       "      <th>min</th>\n",
       "      <td>12.000000</td>\n",
       "      <td>6.701428e+02</td>\n",
       "      <td>0.000000e+00</td>\n",
       "      <td>1.040000e+02</td>\n",
       "      <td>2.545800e+03</td>\n",
       "      <td>1.935800e+03</td>\n",
       "    </tr>\n",
       "    <tr>\n",
       "      <th>25%</th>\n",
       "      <td>33.000000</td>\n",
       "      <td>1.020551e+04</td>\n",
       "      <td>0.000000e+00</td>\n",
       "      <td>1.156173e+04</td>\n",
       "      <td>3.137361e+04</td>\n",
       "      <td>2.998430e+04</td>\n",
       "    </tr>\n",
       "    <tr>\n",
       "      <th>50%</th>\n",
       "      <td>44.000000</td>\n",
       "      <td>2.029448e+04</td>\n",
       "      <td>9.800000e+02</td>\n",
       "      <td>2.212719e+04</td>\n",
       "      <td>5.881513e+04</td>\n",
       "      <td>5.515310e+04</td>\n",
       "    </tr>\n",
       "    <tr>\n",
       "      <th>75%</th>\n",
       "      <td>58.000000</td>\n",
       "      <td>4.484669e+04</td>\n",
       "      <td>7.700000e+03</td>\n",
       "      <td>4.121035e+04</td>\n",
       "      <td>1.177895e+05</td>\n",
       "      <td>1.080720e+05</td>\n",
       "    </tr>\n",
       "    <tr>\n",
       "      <th>max</th>\n",
       "      <td>107.000000</td>\n",
       "      <td>2.478775e+07</td>\n",
       "      <td>4.568200e+07</td>\n",
       "      <td>6.653724e+06</td>\n",
       "      <td>4.957551e+07</td>\n",
       "      <td>7.167566e+06</td>\n",
       "    </tr>\n",
       "  </tbody>\n",
       "</table>\n",
       "</div>"
      ],
      "text/plain": [
       "        age_of_head          apci     ncons_exp      g01_food        income  \\\n",
       "count  10090.000000  1.009000e+04  1.009000e+04  1.009000e+04  1.009000e+04   \n",
       "mean      46.619623  5.258010e+04  3.019206e+04  4.071043e+04  1.314056e+05   \n",
       "std       17.119834  2.983869e+05  5.262571e+05  1.398639e+05  6.042626e+05   \n",
       "min       12.000000  6.701428e+02  0.000000e+00  1.040000e+02  2.545800e+03   \n",
       "25%       33.000000  1.020551e+04  0.000000e+00  1.156173e+04  3.137361e+04   \n",
       "50%       44.000000  2.029448e+04  9.800000e+02  2.212719e+04  5.881513e+04   \n",
       "75%       58.000000  4.484669e+04  7.700000e+03  4.121035e+04  1.177895e+05   \n",
       "max      107.000000  2.478775e+07  4.568200e+07  6.653724e+06  4.957551e+07   \n",
       "\n",
       "           cons_exp  \n",
       "count  1.009000e+04  \n",
       "mean   1.064489e+05  \n",
       "std    2.183151e+05  \n",
       "min    1.935800e+03  \n",
       "25%    2.998430e+04  \n",
       "50%    5.515310e+04  \n",
       "75%    1.080720e+05  \n",
       "max    7.167566e+06  "
      ]
     },
     "execution_count": 19,
     "metadata": {},
     "output_type": "execute_result"
    }
   ],
   "source": [
    "# describe variables\n",
    "quantds.describe()"
   ]
  },
  {
   "cell_type": "code",
   "execution_count": 40,
   "metadata": {},
   "outputs": [
    {
     "data": {
      "text/plain": [
       "<seaborn.axisgrid.PairGrid at 0x7f3347645f28>"
      ]
     },
     "execution_count": 40,
     "metadata": {},
     "output_type": "execute_result"
    },
    {
     "data": {
      "image/png": "[encoded data removed]",
      "text/plain": [
       "<Figure size 1080x1080 with 42 Axes>"
      ]
     },
     "metadata": {},
     "output_type": "display_data"
    }
   ],
   "source": [
    "sns.pairplot(quantds,height=2.5)"
   ]
  },
  {
   "cell_type": "code",
   "execution_count": 20,
   "metadata": {},
   "outputs": [
    {
     "data": {
      "text/plain": [
       "<matplotlib.axes._subplots.AxesSubplot at 0x7f3350065fd0>"
      ]
     },
     "execution_count": 20,
     "metadata": {},
     "output_type": "execute_result"
    },
    {
     "data": {
      "image/png": "[encoded data removed]",
      "text/plain": [
       "<Figure size 504x288 with 2 Axes>"
      ]
     },
     "metadata": {
      "needs_background": "light"
     },
     "output_type": "display_data"
    }
   ],
   "source": [
    "# Heat Map\n",
    "\n",
    "plt.figure(figsize=(7,4))\n",
    "sns.heatmap(quantds.corr(),annot=True,cmap='summer')"
   ]
  },
  {
   "cell_type": "markdown",
   "metadata": {},
   "source": [
    "#### Consumption expenditure (cons_exp) is correlated with income and food expenditur (g01_food).\n",
    "#### Income correlates with apci, non consumption expenditure (ncons_exp), and consumption expenditure\n",
    "#### apci (adjusted per capita income) of the household correlates strongly with ncons_exp and income\n",
    "#### Age of head of household is not correlated with the other variables\n",
    "#### Hence in this study we will limit ourselves to predicting the variable apci_groups (our label or dependent variable --categorical) using \n",
    "#### the independent variables (categorical) like age_group, sex_of_head, main_language, main_sourceincome, tenure, urbrur_head, attain"
   ]
  },
  {
   "cell_type": "markdown",
   "metadata": {},
   "source": [
    "##### We now look at apci (quantitative variable) by the independent categorical variables using the groupby command"
   ]
  },
  {
   "cell_type": "code",
   "execution_count": 22,
   "metadata": {},
   "outputs": [
    {
     "data": {
      "text/html": [
       "<div>\n",
       "<style scoped>\n",
       "    .dataframe tbody tr th:only-of-type {\n",
       "        vertical-align: middle;\n",
       "    }\n",
       "\n",
       "    .dataframe tbody tr th {\n",
       "        vertical-align: top;\n",
       "    }\n",
       "\n",
       "    .dataframe thead th {\n",
       "        text-align: right;\n",
       "    }\n",
       "</style>\n",
       "<table border=\"1\" class=\"dataframe\">\n",
       "  <thead>\n",
       "    <tr style=\"text-align: right;\">\n",
       "      <th></th>\n",
       "      <th>apci</th>\n",
       "    </tr>\n",
       "    <tr>\n",
       "      <th>apci_groups</th>\n",
       "      <th></th>\n",
       "    </tr>\n",
       "  </thead>\n",
       "  <tbody>\n",
       "    <tr>\n",
       "      <th>1</th>\n",
       "      <td>5248.946156</td>\n",
       "    </tr>\n",
       "    <tr>\n",
       "      <th>2</th>\n",
       "      <td>11777.542903</td>\n",
       "    </tr>\n",
       "    <tr>\n",
       "      <th>3</th>\n",
       "      <td>23489.705852</td>\n",
       "    </tr>\n",
       "    <tr>\n",
       "      <th>4</th>\n",
       "      <td>49786.879040</td>\n",
       "    </tr>\n",
       "    <tr>\n",
       "      <th>5</th>\n",
       "      <td>97112.119328</td>\n",
       "    </tr>\n",
       "    <tr>\n",
       "      <th>6</th>\n",
       "      <td>168159.722998</td>\n",
       "    </tr>\n",
       "    <tr>\n",
       "      <th>7</th>\n",
       "      <td>666935.851615</td>\n",
       "    </tr>\n",
       "  </tbody>\n",
       "</table>\n",
       "</div>"
      ],
      "text/plain": [
       "                      apci\n",
       "apci_groups               \n",
       "1              5248.946156\n",
       "2             11777.542903\n",
       "3             23489.705852\n",
       "4             49786.879040\n",
       "5             97112.119328\n",
       "6            168159.722998\n",
       "7            666935.851615"
      ]
     },
     "execution_count": 22,
     "metadata": {},
     "output_type": "execute_result"
    }
   ],
   "source": [
    "pd.pivot_table(nhiesinc,index=[\"apci_groups\"],values=[\"apci\"],aggfunc=np.mean)"
   ]
  },
  {
   "cell_type": "markdown",
   "metadata": {},
   "source": [
    "#### As can be seen apci is highly correlated with apci_groups (adjusted per capita income percentiles); the higher percentile groups have higher income on average"
   ]
  },
  {
   "cell_type": "code",
   "execution_count": 23,
   "metadata": {},
   "outputs": [
    {
     "data": {
      "text/html": [
       "<div>\n",
       "<style scoped>\n",
       "    .dataframe tbody tr th:only-of-type {\n",
       "        vertical-align: middle;\n",
       "    }\n",
       "\n",
       "    .dataframe tbody tr th {\n",
       "        vertical-align: top;\n",
       "    }\n",
       "\n",
       "    .dataframe thead th {\n",
       "        text-align: right;\n",
       "    }\n",
       "</style>\n",
       "<table border=\"1\" class=\"dataframe\">\n",
       "  <thead>\n",
       "    <tr style=\"text-align: right;\">\n",
       "      <th></th>\n",
       "      <th>apci</th>\n",
       "    </tr>\n",
       "    <tr>\n",
       "      <th>attain</th>\n",
       "      <th></th>\n",
       "    </tr>\n",
       "  </thead>\n",
       "  <tbody>\n",
       "    <tr>\n",
       "      <th>1.0</th>\n",
       "      <td>21037.777713</td>\n",
       "    </tr>\n",
       "    <tr>\n",
       "      <th>2.0</th>\n",
       "      <td>25560.796783</td>\n",
       "    </tr>\n",
       "    <tr>\n",
       "      <th>3.0</th>\n",
       "      <td>53270.796768</td>\n",
       "    </tr>\n",
       "    <tr>\n",
       "      <th>4.0</th>\n",
       "      <td>178079.126510</td>\n",
       "    </tr>\n",
       "    <tr>\n",
       "      <th>5.0</th>\n",
       "      <td>21394.312029</td>\n",
       "    </tr>\n",
       "    <tr>\n",
       "      <th>6.0</th>\n",
       "      <td>100430.021163</td>\n",
       "    </tr>\n",
       "  </tbody>\n",
       "</table>\n",
       "</div>"
      ],
      "text/plain": [
       "                 apci\n",
       "attain               \n",
       "1.0      21037.777713\n",
       "2.0      25560.796783\n",
       "3.0      53270.796768\n",
       "4.0     178079.126510\n",
       "5.0      21394.312029\n",
       "6.0     100430.021163"
      ]
     },
     "execution_count": 23,
     "metadata": {},
     "output_type": "execute_result"
    }
   ],
   "source": [
    "pd.pivot_table(nhiesinc,index=[\"attain\"],values=[\"apci\"],aggfunc=np.mean)"
   ]
  },
  {
   "cell_type": "code",
   "execution_count": 24,
   "metadata": {},
   "outputs": [
    {
     "data": {
      "text/html": [
       "<div>\n",
       "<style scoped>\n",
       "    .dataframe tbody tr th:only-of-type {\n",
       "        vertical-align: middle;\n",
       "    }\n",
       "\n",
       "    .dataframe tbody tr th {\n",
       "        vertical-align: top;\n",
       "    }\n",
       "\n",
       "    .dataframe thead th {\n",
       "        text-align: right;\n",
       "    }\n",
       "</style>\n",
       "<table border=\"1\" class=\"dataframe\">\n",
       "  <thead>\n",
       "    <tr style=\"text-align: right;\">\n",
       "      <th></th>\n",
       "      <th>apci</th>\n",
       "    </tr>\n",
       "    <tr>\n",
       "      <th>urbrur_head</th>\n",
       "      <th></th>\n",
       "    </tr>\n",
       "  </thead>\n",
       "  <tbody>\n",
       "    <tr>\n",
       "      <th>1</th>\n",
       "      <td>58583.120387</td>\n",
       "    </tr>\n",
       "    <tr>\n",
       "      <th>2</th>\n",
       "      <td>90313.645754</td>\n",
       "    </tr>\n",
       "    <tr>\n",
       "      <th>3</th>\n",
       "      <td>27091.464974</td>\n",
       "    </tr>\n",
       "    <tr>\n",
       "      <th>4</th>\n",
       "      <td>38538.806782</td>\n",
       "    </tr>\n",
       "  </tbody>\n",
       "</table>\n",
       "</div>"
      ],
      "text/plain": [
       "                     apci\n",
       "urbrur_head              \n",
       "1            58583.120387\n",
       "2            90313.645754\n",
       "3            27091.464974\n",
       "4            38538.806782"
      ]
     },
     "execution_count": 24,
     "metadata": {},
     "output_type": "execute_result"
    }
   ],
   "source": [
    "pd.pivot_table(nhiesinc,index=[\"urbrur_head\"],values=[\"apci\"],aggfunc=np.mean)"
   ]
  },
  {
   "cell_type": "code",
   "execution_count": 25,
   "metadata": {},
   "outputs": [
    {
     "data": {
      "text/html": [
       "<div>\n",
       "<style scoped>\n",
       "    .dataframe tbody tr th:only-of-type {\n",
       "        vertical-align: middle;\n",
       "    }\n",
       "\n",
       "    .dataframe tbody tr th {\n",
       "        vertical-align: top;\n",
       "    }\n",
       "\n",
       "    .dataframe thead th {\n",
       "        text-align: right;\n",
       "    }\n",
       "</style>\n",
       "<table border=\"1\" class=\"dataframe\">\n",
       "  <thead>\n",
       "    <tr style=\"text-align: right;\">\n",
       "      <th></th>\n",
       "      <th>apci</th>\n",
       "    </tr>\n",
       "    <tr>\n",
       "      <th>main_sourceincome</th>\n",
       "      <th></th>\n",
       "    </tr>\n",
       "  </thead>\n",
       "  <tbody>\n",
       "    <tr>\n",
       "      <th>1</th>\n",
       "      <td>59732.768379</td>\n",
       "    </tr>\n",
       "    <tr>\n",
       "      <th>2</th>\n",
       "      <td>30908.246532</td>\n",
       "    </tr>\n",
       "    <tr>\n",
       "      <th>3</th>\n",
       "      <td>25933.743401</td>\n",
       "    </tr>\n",
       "    <tr>\n",
       "      <th>4</th>\n",
       "      <td>82595.366270</td>\n",
       "    </tr>\n",
       "    <tr>\n",
       "      <th>5</th>\n",
       "      <td>37182.290785</td>\n",
       "    </tr>\n",
       "    <tr>\n",
       "      <th>6</th>\n",
       "      <td>18848.665612</td>\n",
       "    </tr>\n",
       "    <tr>\n",
       "      <th>7</th>\n",
       "      <td>350176.750430</td>\n",
       "    </tr>\n",
       "    <tr>\n",
       "      <th>8</th>\n",
       "      <td>94228.558181</td>\n",
       "    </tr>\n",
       "  </tbody>\n",
       "</table>\n",
       "</div>"
      ],
      "text/plain": [
       "                            apci\n",
       "main_sourceincome               \n",
       "1                   59732.768379\n",
       "2                   30908.246532\n",
       "3                   25933.743401\n",
       "4                   82595.366270\n",
       "5                   37182.290785\n",
       "6                   18848.665612\n",
       "7                  350176.750430\n",
       "8                   94228.558181"
      ]
     },
     "execution_count": 25,
     "metadata": {},
     "output_type": "execute_result"
    }
   ],
   "source": [
    "pd.pivot_table(nhiesinc,index=[\"main_sourceincome\"],values=[\"apci\"],aggfunc=np.mean)"
   ]
  },
  {
   "cell_type": "code",
   "execution_count": 26,
   "metadata": {},
   "outputs": [
    {
     "data": {
      "text/html": [
       "<div>\n",
       "<style scoped>\n",
       "    .dataframe tbody tr th:only-of-type {\n",
       "        vertical-align: middle;\n",
       "    }\n",
       "\n",
       "    .dataframe tbody tr th {\n",
       "        vertical-align: top;\n",
       "    }\n",
       "\n",
       "    .dataframe thead th {\n",
       "        text-align: right;\n",
       "    }\n",
       "</style>\n",
       "<table border=\"1\" class=\"dataframe\">\n",
       "  <thead>\n",
       "    <tr style=\"text-align: right;\">\n",
       "      <th></th>\n",
       "      <th>apci</th>\n",
       "    </tr>\n",
       "    <tr>\n",
       "      <th>main_language</th>\n",
       "      <th></th>\n",
       "    </tr>\n",
       "  </thead>\n",
       "  <tbody>\n",
       "    <tr>\n",
       "      <th>1</th>\n",
       "      <td>13081.737005</td>\n",
       "    </tr>\n",
       "    <tr>\n",
       "      <th>2</th>\n",
       "      <td>26550.894939</td>\n",
       "    </tr>\n",
       "    <tr>\n",
       "      <th>3</th>\n",
       "      <td>39007.079170</td>\n",
       "    </tr>\n",
       "    <tr>\n",
       "      <th>4</th>\n",
       "      <td>24511.539557</td>\n",
       "    </tr>\n",
       "    <tr>\n",
       "      <th>5</th>\n",
       "      <td>33677.527810</td>\n",
       "    </tr>\n",
       "    <tr>\n",
       "      <th>6</th>\n",
       "      <td>40557.060732</td>\n",
       "    </tr>\n",
       "    <tr>\n",
       "      <th>7</th>\n",
       "      <td>38363.680920</td>\n",
       "    </tr>\n",
       "    <tr>\n",
       "      <th>8</th>\n",
       "      <td>155470.642012</td>\n",
       "    </tr>\n",
       "    <tr>\n",
       "      <th>9</th>\n",
       "      <td>458050.187500</td>\n",
       "    </tr>\n",
       "    <tr>\n",
       "      <th>10</th>\n",
       "      <td>247095.941107</td>\n",
       "    </tr>\n",
       "    <tr>\n",
       "      <th>11</th>\n",
       "      <td>126370.438414</td>\n",
       "    </tr>\n",
       "    <tr>\n",
       "      <th>12</th>\n",
       "      <td>118654.423351</td>\n",
       "    </tr>\n",
       "    <tr>\n",
       "      <th>13</th>\n",
       "      <td>246298.342369</td>\n",
       "    </tr>\n",
       "  </tbody>\n",
       "</table>\n",
       "</div>"
      ],
      "text/plain": [
       "                        apci\n",
       "main_language               \n",
       "1               13081.737005\n",
       "2               26550.894939\n",
       "3               39007.079170\n",
       "4               24511.539557\n",
       "5               33677.527810\n",
       "6               40557.060732\n",
       "7               38363.680920\n",
       "8              155470.642012\n",
       "9              458050.187500\n",
       "10             247095.941107\n",
       "11             126370.438414\n",
       "12             118654.423351\n",
       "13             246298.342369"
      ]
     },
     "execution_count": 26,
     "metadata": {},
     "output_type": "execute_result"
    }
   ],
   "source": [
    "pd.pivot_table(nhiesinc,index=[\"main_language\"],values=[\"apci\"],aggfunc=np.mean)"
   ]
  },
  {
   "cell_type": "code",
   "execution_count": 27,
   "metadata": {},
   "outputs": [
    {
     "data": {
      "text/html": [
       "<div>\n",
       "<style scoped>\n",
       "    .dataframe tbody tr th:only-of-type {\n",
       "        vertical-align: middle;\n",
       "    }\n",
       "\n",
       "    .dataframe tbody tr th {\n",
       "        vertical-align: top;\n",
       "    }\n",
       "\n",
       "    .dataframe thead th {\n",
       "        text-align: right;\n",
       "    }\n",
       "</style>\n",
       "<table border=\"1\" class=\"dataframe\">\n",
       "  <thead>\n",
       "    <tr style=\"text-align: right;\">\n",
       "      <th></th>\n",
       "      <th>apci</th>\n",
       "    </tr>\n",
       "    <tr>\n",
       "      <th>reg_urb</th>\n",
       "      <th></th>\n",
       "    </tr>\n",
       "  </thead>\n",
       "  <tbody>\n",
       "    <tr>\n",
       "      <th>1</th>\n",
       "      <td>62170.994003</td>\n",
       "    </tr>\n",
       "    <tr>\n",
       "      <th>2</th>\n",
       "      <td>63856.652641</td>\n",
       "    </tr>\n",
       "    <tr>\n",
       "      <th>3</th>\n",
       "      <td>134567.735510</td>\n",
       "    </tr>\n",
       "    <tr>\n",
       "      <th>4</th>\n",
       "      <td>42711.336423</td>\n",
       "    </tr>\n",
       "    <tr>\n",
       "      <th>5</th>\n",
       "      <td>64280.529345</td>\n",
       "    </tr>\n",
       "    <tr>\n",
       "      <th>6</th>\n",
       "      <td>70427.359349</td>\n",
       "    </tr>\n",
       "    <tr>\n",
       "      <th>7</th>\n",
       "      <td>34526.328959</td>\n",
       "    </tr>\n",
       "    <tr>\n",
       "      <th>8</th>\n",
       "      <td>17170.801369</td>\n",
       "    </tr>\n",
       "    <tr>\n",
       "      <th>9</th>\n",
       "      <td>29263.190523</td>\n",
       "    </tr>\n",
       "    <tr>\n",
       "      <th>10</th>\n",
       "      <td>19551.073577</td>\n",
       "    </tr>\n",
       "    <tr>\n",
       "      <th>11</th>\n",
       "      <td>97140.196520</td>\n",
       "    </tr>\n",
       "    <tr>\n",
       "      <th>12</th>\n",
       "      <td>68260.779273</td>\n",
       "    </tr>\n",
       "    <tr>\n",
       "      <th>13</th>\n",
       "      <td>30239.429863</td>\n",
       "    </tr>\n",
       "    <tr>\n",
       "      <th>14</th>\n",
       "      <td>36478.770806</td>\n",
       "    </tr>\n",
       "    <tr>\n",
       "      <th>15</th>\n",
       "      <td>53160.437884</td>\n",
       "    </tr>\n",
       "    <tr>\n",
       "      <th>16</th>\n",
       "      <td>27535.820267</td>\n",
       "    </tr>\n",
       "    <tr>\n",
       "      <th>17</th>\n",
       "      <td>84632.455234</td>\n",
       "    </tr>\n",
       "    <tr>\n",
       "      <th>18</th>\n",
       "      <td>29288.218805</td>\n",
       "    </tr>\n",
       "    <tr>\n",
       "      <th>19</th>\n",
       "      <td>62475.292760</td>\n",
       "    </tr>\n",
       "    <tr>\n",
       "      <th>20</th>\n",
       "      <td>22758.941325</td>\n",
       "    </tr>\n",
       "    <tr>\n",
       "      <th>21</th>\n",
       "      <td>55426.020135</td>\n",
       "    </tr>\n",
       "    <tr>\n",
       "      <th>22</th>\n",
       "      <td>40487.744415</td>\n",
       "    </tr>\n",
       "    <tr>\n",
       "      <th>23</th>\n",
       "      <td>55983.686136</td>\n",
       "    </tr>\n",
       "    <tr>\n",
       "      <th>24</th>\n",
       "      <td>28229.791324</td>\n",
       "    </tr>\n",
       "    <tr>\n",
       "      <th>25</th>\n",
       "      <td>50068.248253</td>\n",
       "    </tr>\n",
       "    <tr>\n",
       "      <th>26</th>\n",
       "      <td>68340.264139</td>\n",
       "    </tr>\n",
       "    <tr>\n",
       "      <th>27</th>\n",
       "      <td>36498.375077</td>\n",
       "    </tr>\n",
       "    <tr>\n",
       "      <th>28</th>\n",
       "      <td>13252.729333</td>\n",
       "    </tr>\n",
       "  </tbody>\n",
       "</table>\n",
       "</div>"
      ],
      "text/plain": [
       "                  apci\n",
       "reg_urb               \n",
       "1         62170.994003\n",
       "2         63856.652641\n",
       "3        134567.735510\n",
       "4         42711.336423\n",
       "5         64280.529345\n",
       "6         70427.359349\n",
       "7         34526.328959\n",
       "8         17170.801369\n",
       "9         29263.190523\n",
       "10        19551.073577\n",
       "11        97140.196520\n",
       "12        68260.779273\n",
       "13        30239.429863\n",
       "14        36478.770806\n",
       "15        53160.437884\n",
       "16        27535.820267\n",
       "17        84632.455234\n",
       "18        29288.218805\n",
       "19        62475.292760\n",
       "20        22758.941325\n",
       "21        55426.020135\n",
       "22        40487.744415\n",
       "23        55983.686136\n",
       "24        28229.791324\n",
       "25        50068.248253\n",
       "26        68340.264139\n",
       "27        36498.375077\n",
       "28        13252.729333"
      ]
     },
     "execution_count": 27,
     "metadata": {},
     "output_type": "execute_result"
    }
   ],
   "source": [
    "pd.pivot_table(nhiesinc,index=[\"reg_urb\"],values=[\"apci\"],aggfunc=np.mean)"
   ]
  },
  {
   "cell_type": "code",
   "execution_count": 28,
   "metadata": {},
   "outputs": [
    {
     "data": {
      "text/html": [
       "<div>\n",
       "<style scoped>\n",
       "    .dataframe tbody tr th:only-of-type {\n",
       "        vertical-align: middle;\n",
       "    }\n",
       "\n",
       "    .dataframe tbody tr th {\n",
       "        vertical-align: top;\n",
       "    }\n",
       "\n",
       "    .dataframe thead th {\n",
       "        text-align: right;\n",
       "    }\n",
       "</style>\n",
       "<table border=\"1\" class=\"dataframe\">\n",
       "  <thead>\n",
       "    <tr style=\"text-align: right;\">\n",
       "      <th></th>\n",
       "      <th>apci</th>\n",
       "    </tr>\n",
       "    <tr>\n",
       "      <th>age_group</th>\n",
       "      <th></th>\n",
       "    </tr>\n",
       "  </thead>\n",
       "  <tbody>\n",
       "    <tr>\n",
       "      <th>1</th>\n",
       "      <td>48700.969534</td>\n",
       "    </tr>\n",
       "    <tr>\n",
       "      <th>2</th>\n",
       "      <td>55807.573745</td>\n",
       "    </tr>\n",
       "    <tr>\n",
       "      <th>3</th>\n",
       "      <td>46346.547929</td>\n",
       "    </tr>\n",
       "    <tr>\n",
       "      <th>4</th>\n",
       "      <td>49606.727925</td>\n",
       "    </tr>\n",
       "    <tr>\n",
       "      <th>5</th>\n",
       "      <td>71980.282448</td>\n",
       "    </tr>\n",
       "    <tr>\n",
       "      <th>6</th>\n",
       "      <td>46574.443470</td>\n",
       "    </tr>\n",
       "  </tbody>\n",
       "</table>\n",
       "</div>"
      ],
      "text/plain": [
       "                   apci\n",
       "age_group              \n",
       "1          48700.969534\n",
       "2          55807.573745\n",
       "3          46346.547929\n",
       "4          49606.727925\n",
       "5          71980.282448\n",
       "6          46574.443470"
      ]
     },
     "execution_count": 28,
     "metadata": {},
     "output_type": "execute_result"
    }
   ],
   "source": [
    "pd.pivot_table(nhiesinc,index=[\"age_group\"],values=[\"apci\"],aggfunc=np.mean)"
   ]
  },
  {
   "cell_type": "code",
   "execution_count": 29,
   "metadata": {},
   "outputs": [
    {
     "data": {
      "text/html": [
       "<div>\n",
       "<style scoped>\n",
       "    .dataframe tbody tr th:only-of-type {\n",
       "        vertical-align: middle;\n",
       "    }\n",
       "\n",
       "    .dataframe tbody tr th {\n",
       "        vertical-align: top;\n",
       "    }\n",
       "\n",
       "    .dataframe thead th {\n",
       "        text-align: right;\n",
       "    }\n",
       "</style>\n",
       "<table border=\"1\" class=\"dataframe\">\n",
       "  <thead>\n",
       "    <tr style=\"text-align: right;\">\n",
       "      <th></th>\n",
       "      <th>apci</th>\n",
       "    </tr>\n",
       "    <tr>\n",
       "      <th>sex_of_head</th>\n",
       "      <th></th>\n",
       "    </tr>\n",
       "  </thead>\n",
       "  <tbody>\n",
       "    <tr>\n",
       "      <th>1</th>\n",
       "      <td>40988.454159</td>\n",
       "    </tr>\n",
       "    <tr>\n",
       "      <th>2</th>\n",
       "      <td>62354.854376</td>\n",
       "    </tr>\n",
       "  </tbody>\n",
       "</table>\n",
       "</div>"
      ],
      "text/plain": [
       "                     apci\n",
       "sex_of_head              \n",
       "1            40988.454159\n",
       "2            62354.854376"
      ]
     },
     "execution_count": 29,
     "metadata": {},
     "output_type": "execute_result"
    }
   ],
   "source": [
    "pd.pivot_table(nhiesinc,index=[\"sex_of_head\"],values=[\"apci\"],aggfunc=np.mean)"
   ]
  },
  {
   "cell_type": "markdown",
   "metadata": {},
   "source": [
    "#### Looking at the categorical variables "
   ]
  },
  {
   "cell_type": "code",
   "execution_count": 30,
   "metadata": {},
   "outputs": [],
   "source": [
    "%matplotlib inline\n",
    "import seaborn as sns\n",
    "import matplotlib.pyplot as plt\n"
   ]
  },
  {
   "cell_type": "code",
   "execution_count": 32,
   "metadata": {},
   "outputs": [
    {
     "data": {
      "image/png": "[encoded data removed]",
      "text/plain": [
       "<Figure size 432x288 with 1 Axes>"
      ]
     },
     "metadata": {},
     "output_type": "display_data"
    }
   ],
   "source": [
    "# apci_groups barchart\n",
    "cnt = nhiesinc['apci_groups'].value_counts()\n",
    "sns.set(style=\"darkgrid\")\n",
    "sns.barplot(cnt.index, cnt.values, alpha=0.9)\n",
    "plt.title('Frequency Distribution of Apci_groups')\n",
    "plt.ylabel('Number of Occurrences', fontsize=12)\n",
    "plt.xlabel('Apci_groups', fontsize=12)\n",
    "plt.show()"
   ]
  },
  {
   "cell_type": "code",
   "execution_count": 33,
   "metadata": {},
   "outputs": [
    {
     "data": {
      "image/png": "[encoded data removed]",
      "text/plain": [
       "<Figure size 432x288 with 1 Axes>"
      ]
     },
     "metadata": {},
     "output_type": "display_data"
    }
   ],
   "source": [
    "# attain_groups barchart\n",
    "cnt = nhiesinc['attain'].value_counts()\n",
    "sns.set(style=\"darkgrid\")\n",
    "sns.barplot(cnt.index, cnt.values, alpha=0.9)\n",
    "plt.title('Frequency Distribution of Attain')\n",
    "plt.ylabel('Number of Occurrences', fontsize=12)\n",
    "plt.xlabel('Attain', fontsize=12)\n",
    "plt.show()"
   ]
  },
  {
   "cell_type": "code",
   "execution_count": 34,
   "metadata": {},
   "outputs": [
    {
     "data": {
      "image/png": "[encoded data removed]",
      "text/plain": [
       "<Figure size 432x288 with 1 Axes>"
      ]
     },
     "metadata": {},
     "output_type": "display_data"
    }
   ],
   "source": [
    "# urbrur_head barchart\n",
    "cnt = nhiesinc['urbrur_head'].value_counts()\n",
    "sns.set(style=\"darkgrid\")\n",
    "sns.barplot(cnt.index, cnt.values, alpha=0.9)\n",
    "plt.title('Frequency Distribution of urbrur_head')\n",
    "plt.ylabel('Number of Occurrences', fontsize=12)\n",
    "plt.xlabel('urbrur_head', fontsize=12)\n",
    "plt.show()"
   ]
  },
  {
   "cell_type": "code",
   "execution_count": 35,
   "metadata": {},
   "outputs": [
    {
     "data": {
      "image/png": "[encoded data removed]",
      "text/plain": [
       "<Figure size 432x288 with 1 Axes>"
      ]
     },
     "metadata": {},
     "output_type": "display_data"
    }
   ],
   "source": [
    "# tenure barchart\n",
    "cnt = nhiesinc['tenure'].value_counts()\n",
    "sns.set(style=\"darkgrid\")\n",
    "sns.barplot(cnt.index, cnt.values, alpha=0.9)\n",
    "plt.title('Frequency Distribution of tenure')\n",
    "plt.ylabel('Number of Occurrences', fontsize=12)\n",
    "plt.xlabel('tenure', fontsize=12)\n",
    "plt.show()"
   ]
  },
  {
   "cell_type": "code",
   "execution_count": 36,
   "metadata": {},
   "outputs": [
    {
     "data": {
      "image/png": "[encoded data removed]",
      "text/plain": [
       "<Figure size 432x288 with 1 Axes>"
      ]
     },
     "metadata": {},
     "output_type": "display_data"
    }
   ],
   "source": [
    "# main_sourceincome barchart\n",
    "cnt = nhiesinc['main_sourceincome'].value_counts()\n",
    "sns.set(style=\"darkgrid\")\n",
    "sns.barplot(cnt.index, cnt.values, alpha=0.9)\n",
    "plt.title('Frequency Distribution of main_sourceincome')\n",
    "plt.ylabel('Number of Occurrences', fontsize=12)\n",
    "plt.xlabel('main_sourceincome', fontsize=12)\n",
    "plt.show()"
   ]
  },
  {
   "cell_type": "code",
   "execution_count": 37,
   "metadata": {},
   "outputs": [
    {
     "data": {
      "image/png": "[encoded data removed]",
      "text/plain": [
       "<Figure size 432x288 with 1 Axes>"
      ]
     },
     "metadata": {},
     "output_type": "display_data"
    }
   ],
   "source": [
    "# main_language barchart\n",
    "cnt = nhiesinc['main_language'].value_counts()\n",
    "sns.set(style=\"darkgrid\")\n",
    "sns.barplot(cnt.index, cnt.values, alpha=0.9)\n",
    "plt.title('Frequency Distribution of main_language')\n",
    "plt.ylabel('Number of Occurrences', fontsize=12)\n",
    "plt.xlabel('main_language', fontsize=12)\n",
    "plt.show()"
   ]
  },
  {
   "cell_type": "code",
   "execution_count": 38,
   "metadata": {},
   "outputs": [
    {
     "data": {
      "image/png": "[encoded data removed]",
      "text/plain": [
       "<Figure size 432x288 with 1 Axes>"
      ]
     },
     "metadata": {},
     "output_type": "display_data"
    }
   ],
   "source": [
    "# age_group barchart\n",
    "cnt = nhiesinc['age_group'].value_counts()\n",
    "sns.set(style=\"darkgrid\")\n",
    "sns.barplot(cnt.index, cnt.values, alpha=0.9)\n",
    "plt.title('Frequency Distribution of age_groupp')\n",
    "plt.ylabel('Number of Occurrences', fontsize=12)\n",
    "plt.xlabel('age_group', fontsize=12)\n",
    "plt.show()"
   ]
  },
  {
   "cell_type": "code",
   "execution_count": 39,
   "metadata": {},
   "outputs": [
    {
     "data": {
      "image/png": "[encoded data removed]",
      "text/plain": [
       "<Figure size 432x288 with 1 Axes>"
      ]
     },
     "metadata": {},
     "output_type": "display_data"
    }
   ],
   "source": [
    "# sex_of_head barchart\n",
    "cnt = nhiesinc['sex_of_head'].value_counts()\n",
    "sns.set(style=\"darkgrid\")\n",
    "sns.barplot(cnt.index, cnt.values, alpha=0.9)\n",
    "plt.title('Frequency Distribution of sex_of_head')\n",
    "plt.ylabel('Number of Occurrences', fontsize=12)\n",
    "plt.xlabel('sex_of_head', fontsize=12)\n",
    "plt.show()"
   ]
  },
  {
   "cell_type": "markdown",
   "metadata": {},
   "source": [
    "#### We have now extracted the data and done exploratory analysis for the label and some feature variables.\n",
    "#### In the next Notebook Ads_Capstone.feature_selection2.Python3.ipynb we will select the final features to be included in our future models."
   ]
  }
 ],
 "metadata": {
  "colab": {
   "collapsed_sections": [],
   "name": "nhies2016etl.ipynb",
   "provenance": [],
   "toc_visible": true,
   "version": "0.3.2"
  },
  "kernelspec": {
   "display_name": "Python 3",
   "language": "python",
   "name": "python3"
  },
  "language_info": {
   "codemirror_mode": {
    "name": "ipython",
    "version": 3
   },
   "file_extension": ".py",
   "mimetype": "text/x-python",
   "name": "python",
   "nbconvert_exporter": "python",
   "pygments_lexer": "ipython3",
   "version": "3.6.8"
  }
 },
 "nbformat": 4,
 "nbformat_minor": 2
}
